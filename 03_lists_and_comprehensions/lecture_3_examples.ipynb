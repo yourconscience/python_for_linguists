{
 "cells": [
  {
   "cell_type": "markdown",
   "metadata": {},
   "source": [
    "### Списки"
   ]
  },
  {
   "cell_type": "code",
   "execution_count": null,
   "metadata": {
    "collapsed": false
   },
   "outputs": [],
   "source": [
    "# Можно создавать списки из любых элементов\n",
    "days = ['Mon', 'Tue', 'Wed', 'Thu', 'Fri', 'Sat', 'Sun']\n",
    "day_numbers = [1, 2, 3, 4, 5, 6, 7]\n",
    "weird_list = [42, None, 'sunny', ['day']]\n",
    "empty_list = list()\n",
    "print(days[1], day_numbers[1])"
   ]
  },
  {
   "cell_type": "code",
   "execution_count": null,
   "metadata": {
    "collapsed": false
   },
   "outputs": [],
   "source": [
    "# Пустой список\n",
    "empty = list()\n",
    "empty2 = []\n",
    "print(empty)"
   ]
  },
  {
   "cell_type": "code",
   "execution_count": null,
   "metadata": {
    "collapsed": true
   },
   "outputs": [],
   "source": [
    "# Инициализация списка с помощью range\n",
    "l = [0, 1, 2, 3, 4]\n",
    "l = list(range(5))"
   ]
  },
  {
   "cell_type": "code",
   "execution_count": null,
   "metadata": {
    "collapsed": false
   },
   "outputs": [],
   "source": [
    "# Два вида итерации по списку\n",
    "colors = ['red', 'green', 'blue', 'white', 'black']\n",
    "for i in range(len(colors)):\n",
    "    print(colors[i], end=' ')\n",
    "print()\n",
    "for color in colors:\n",
    "    print(color, end=' ')"
   ]
  },
  {
   "cell_type": "markdown",
   "metadata": {},
   "source": [
    "### Списки и строки"
   ]
  },
  {
   "cell_type": "code",
   "execution_count": null,
   "metadata": {
    "collapsed": false
   },
   "outputs": [],
   "source": [
    "# Одинаковые срезы\n",
    "s = 'abc'\n",
    "l = [1, 2, 3]\n",
    "print(len(s) == len(l))\n",
    "print(s[::-1], l[::-1])"
   ]
  },
  {
   "cell_type": "code",
   "execution_count": null,
   "metadata": {
    "collapsed": false
   },
   "outputs": [],
   "source": [
    "# Можно итерироваться и по списку, и по строке\n",
    "for c in s:\n",
    "    print(c)"
   ]
  },
  {
   "cell_type": "code",
   "execution_count": null,
   "metadata": {
    "collapsed": false
   },
   "outputs": [],
   "source": [
    "# Строка -- массив букв?\n",
    "print(list('abc'))\n",
    "print(list(str(list('abc'))))"
   ]
  },
  {
   "cell_type": "code",
   "execution_count": null,
   "metadata": {
    "collapsed": false
   },
   "outputs": [],
   "source": [
    "# Развернем порядок слов в предложении с помощью split, join\n",
    "sent = 'fall leaves as soon as leaves fall'\n",
    "\n",
    "words = sent.split()\n",
    "print(words)\n",
    "\n",
    "words = words[::-1]\n",
    "sent = ' '.join(words)\n",
    "print(sent)"
   ]
  },
  {
   "cell_type": "code",
   "execution_count": null,
   "metadata": {
    "collapsed": false,
    "scrolled": true
   },
   "outputs": [],
   "source": [
    "nums = '1,2,3,4'\n",
    "print('\\n'.join(nums.split(',')))"
   ]
  },
  {
   "cell_type": "markdown",
   "metadata": {},
   "source": [
    "### Изменение списков"
   ]
  },
  {
   "cell_type": "code",
   "execution_count": null,
   "metadata": {
    "collapsed": false
   },
   "outputs": [],
   "source": [
    "# Строки нельзя изменять\n",
    "s = 'misppell'\n",
    "\n",
    "#s[3] = 's'\n",
    "s = s[:3] + 's' + s[4:]\n",
    "print(s)"
   ]
  },
  {
   "cell_type": "code",
   "execution_count": null,
   "metadata": {
    "collapsed": false
   },
   "outputs": [],
   "source": [
    "# А списки -- можно\n",
    "l = [1, 1, 2, 3, 5, 9]\n",
    "\n",
    "l[-1] = 8\n",
    "l[-1:] = [8, 13, 21]\n",
    "print(l)"
   ]
  },
  {
   "cell_type": "markdown",
   "metadata": {},
   "source": [
    "### Пример из \"A byte of python\""
   ]
  },
  {
   "cell_type": "code",
   "execution_count": null,
   "metadata": {
    "collapsed": false
   },
   "outputs": [],
   "source": [
    "# Это мой список покупок\n",
    "shoplist = ['яблоки', 'манго', 'морковь', 'бананы']\n",
    "print('Я должен сделать ', len(shoplist), 'покупок.')"
   ]
  },
  {
   "cell_type": "code",
   "execution_count": null,
   "metadata": {
    "collapsed": false
   },
   "outputs": [],
   "source": [
    "print('Покупки:', end=' ')\n",
    "for item in shoplist:\n",
    "    print(item, end=' ')"
   ]
  },
  {
   "cell_type": "code",
   "execution_count": null,
   "metadata": {
    "collapsed": false
   },
   "outputs": [],
   "source": [
    "print('\\nТакже нужно купить риса.')\n",
    "shoplist.append('рис')\n",
    "print('Теперь мой список покупок таков:', shoplist)"
   ]
  },
  {
   "cell_type": "code",
   "execution_count": null,
   "metadata": {
    "collapsed": false
   },
   "outputs": [],
   "source": [
    "print('Отсортирую-ка я свой список')\n",
    "shoplist.sort()\n",
    "print('Отсортированный список покупок выглядит так:', shoplist)"
   ]
  },
  {
   "cell_type": "code",
   "execution_count": null,
   "metadata": {
    "collapsed": false
   },
   "outputs": [],
   "source": [
    "print('Первое, что мне нужно купить, это', shoplist[0])\n",
    "olditem = shoplist[0]\n",
    "del shoplist[0]"
   ]
  },
  {
   "cell_type": "code",
   "execution_count": null,
   "metadata": {
    "collapsed": false
   },
   "outputs": [],
   "source": [
    "print('Я купил', olditem)\n",
    "print('Теперь мой список покупок:', shoplist)"
   ]
  },
  {
   "cell_type": "markdown",
   "metadata": {},
   "source": [
    "### Запятая"
   ]
  },
  {
   "cell_type": "code",
   "execution_count": null,
   "metadata": {
    "collapsed": true
   },
   "outputs": [],
   "source": [
    "a = 1\n",
    "b = 2\n",
    "# ok: save one line\n",
    "a, b = 1, 2"
   ]
  },
  {
   "cell_type": "code",
   "execution_count": null,
   "metadata": {
    "collapsed": true
   },
   "outputs": [],
   "source": [
    "# bad: decrease readability\n",
    "name, n, my_sum = input(), int(input()), 0"
   ]
  },
  {
   "cell_type": "code",
   "execution_count": null,
   "metadata": {
    "collapsed": false
   },
   "outputs": [],
   "source": [
    "# simple swap\n",
    "a, b = [1, 2]\n",
    "\n",
    "#tmp = a\n",
    "#a = b\n",
    "#b = tmp\n",
    "\n",
    "a, b = b, a\n",
    "\n",
    "print(a, b)"
   ]
  },
  {
   "cell_type": "code",
   "execution_count": null,
   "metadata": {
    "collapsed": false
   },
   "outputs": [],
   "source": [
    "for direction in 'east', 'west', 'south', 'north':\n",
    "    print(direction)"
   ]
  },
  {
   "cell_type": "markdown",
   "metadata": {},
   "source": [
    "### Tuple"
   ]
  },
  {
   "cell_type": "code",
   "execution_count": null,
   "metadata": {
    "collapsed": true
   },
   "outputs": [],
   "source": [
    "a = (1, 2, 3)\n",
    "b = tuple()\n",
    "c = (3,) # здесь нужна запятая"
   ]
  },
  {
   "cell_type": "code",
   "execution_count": null,
   "metadata": {
    "collapsed": false
   },
   "outputs": [],
   "source": [
    "# список можно изменять, а кортеж -- нет\n",
    "l = [0, 1, 2, 6, 4, 5]\n",
    "l[3] = 3\n",
    "\n",
    "t = tuple(l)\n",
    "print(t[0], t[-2:])\n",
    "#t[3] = 3"
   ]
  },
  {
   "cell_type": "markdown",
   "metadata": {},
   "source": [
    "### Генераторы списков"
   ]
  },
  {
   "cell_type": "code",
   "execution_count": null,
   "metadata": {
    "collapsed": true
   },
   "outputs": [],
   "source": [
    "# как заполнить список нулями?\n",
    "zeroes = [0, 0, 0, 0, 0]\n",
    "zeroes = [0] * 5\n",
    "zeroes = [0 for i in range(5)]"
   ]
  },
  {
   "cell_type": "code",
   "execution_count": null,
   "metadata": {
    "collapsed": false
   },
   "outputs": [],
   "source": [
    "# или по более сложному правилу?\n",
    "squares = [i * i for i in range(5)]\n",
    "\n",
    "s = ' '.join([str(i) for i in squares])\n",
    "print(s)"
   ]
  },
  {
   "cell_type": "code",
   "execution_count": null,
   "metadata": {
    "collapsed": false
   },
   "outputs": [],
   "source": [
    "# или считать не используя внешний цикл?\n",
    "ints = [int(i) for i in input().split()]\n",
    "print(sum(ints))"
   ]
  },
  {
   "cell_type": "markdown",
   "metadata": {},
   "source": [
    "### Вложенные списки"
   ]
  },
  {
   "cell_type": "code",
   "execution_count": null,
   "metadata": {
    "collapsed": false
   },
   "outputs": [],
   "source": [
    "board = [[0] * 8] * 8\n",
    "board[1][0] = 1\n",
    "print(*board, sep='\\n')"
   ]
  },
  {
   "cell_type": "code",
   "execution_count": null,
   "metadata": {
    "collapsed": false
   },
   "outputs": [],
   "source": [
    "board = [[0] * 8 for _ in range(8)]\n",
    "board[1][0] = 1\n",
    "print(*board, sep='\\n')"
   ]
  },
  {
   "cell_type": "markdown",
   "metadata": {},
   "source": [
    "### Чтение текста и строк"
   ]
  },
  {
   "cell_type": "code",
   "execution_count": null,
   "metadata": {
    "collapsed": false
   },
   "outputs": [],
   "source": [
    "n = int(input())\n",
    "lines = []\n",
    "for i in range(n):\n",
    "    lines.append(input())\n",
    "text = ' '.join(lines)\n",
    "words = text.split()\n",
    "print(words)"
   ]
  }
 ],
 "metadata": {
  "kernelspec": {
   "display_name": "Python 3",
   "language": "python",
   "name": "python3"
  },
  "language_info": {
   "codemirror_mode": {
    "name": "ipython",
    "version": 3
   },
   "file_extension": ".py",
   "mimetype": "text/x-python",
   "name": "python",
   "nbconvert_exporter": "python",
   "pygments_lexer": "ipython3",
   "version": "3.5.1"
  }
 },
 "nbformat": 4,
 "nbformat_minor": 0
}
